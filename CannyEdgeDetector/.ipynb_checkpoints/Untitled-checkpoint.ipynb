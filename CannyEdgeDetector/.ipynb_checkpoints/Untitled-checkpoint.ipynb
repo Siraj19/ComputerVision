{
 "cells": [
  {
   "cell_type": "code",
   "execution_count": 1,
   "id": "7ddbcdcd",
   "metadata": {},
   "outputs": [],
   "source": [
    "import cv2 #For the purpose of plotting images\n",
    "import numpy as np\n",
    "from matplotlib import pyplot as plt\n",
    "import math\n",
    "#from google.colab import drive\n",
    "#drive.mount('/drive')"
   ]
  },
  {
   "cell_type": "code",
   "execution_count": 2,
   "id": "fb648100",
   "metadata": {},
   "outputs": [],
   "source": [
    "def findFlip2D(imgFilt):\n",
    "    output=np.zeros([imgFilt.shape[0],imgFilt.shape[1]])\n",
    "    for y in range(0,imgFilt.shape[0]):\n",
    "        for x in range(0,imgFilt.shape[1]):\n",
    "            output[y,x]=imgFilt[imgFilt.shape[0]-y-1,imgFilt.shape[1]-x-1]\n",
    "    return output"
   ]
  },
  {
   "cell_type": "code",
   "execution_count": 3,
   "id": "25808729",
   "metadata": {},
   "outputs": [],
   "source": [
    "def findDotProduct(imgFilt,imgPatch):\n",
    "    if(imgFilt.shape==imgPatch.shape):\n",
    "        return sum(sum(imgFilt*imgPatch))\n",
    "    else:\n",
    "        print(\"Dimensions of given inputs do not match.\")\n",
    "        print(imgFilt.shape)\n",
    "        print(imgPatch.shape)\n",
    "        return"
   ]
  },
  {
   "cell_type": "code",
   "execution_count": 4,
   "id": "30f99030",
   "metadata": {},
   "outputs": [],
   "source": [
    "def findConvolution2D(imgFiltr,imgTarget):\n",
    "    \n",
    "    if (imgTarget.shape[0]-imgFiltr.shape[0]>-1)and(imgTarget.shape[1]-imgFiltr.shape[1]>-1):\n",
    "        imgFilt=findFlip2D(imgFiltr)\n",
    "        output=np.zeros([imgTarget.shape[0]+imgFilt.shape[0]-1,imgTarget.shape[1]+imgFilt.shape[1]-1])\n",
    "        temp=np.zeros([imgTarget.shape[0]+2*imgFilt.shape[0]-2,imgTarget.shape[1]+2*imgFilt.shape[1]-2])\n",
    "        temp[imgFilt.shape[0]-1:imgTarget.shape[0]+imgFilt.shape[0]-1,imgFilt.shape[1]-1:imgTarget.shape[1]+imgFilt.shape[1]-1]=imgTarget\n",
    "        print(temp)\n",
    "        for y in range(0,output.shape[0]):\n",
    "            for x in range(0,output.shape[1]):\n",
    "                output[y,x]=findDotProduct(imgFilt,temp[y:y+imgFilt.shape[0],x:x+imgFilt.shape[1]])\n",
    "        return output\n",
    "    else:\n",
    "        print(\"Target image dimension is less than the target image dimension\")\n",
    "        return"
   ]
  },
  {
   "cell_type": "code",
   "execution_count": 5,
   "id": "0cfdcb60",
   "metadata": {},
   "outputs": [],
   "source": [
    "a=np.ones([2,3])\n",
    "b=np.ones([4,4])"
   ]
  },
  {
   "cell_type": "code",
   "execution_count": 16,
   "id": "fa55d747",
   "metadata": {},
   "outputs": [
    {
     "name": "stdout",
     "output_type": "stream",
     "text": [
      "[[0. 0. 0. 0. 0. 0. 0. 0.]\n",
      " [0. 0. 1. 1. 1. 1. 0. 0.]\n",
      " [0. 0. 1. 1. 1. 1. 0. 0.]\n",
      " [0. 0. 1. 1. 1. 1. 0. 0.]\n",
      " [0. 0. 1. 1. 1. 1. 0. 0.]\n",
      " [0. 0. 0. 0. 0. 0. 0. 0.]]\n",
      "[[1. 2. 3. 3. 2. 1.]\n",
      " [2. 4. 6. 6. 4. 2.]\n",
      " [2. 4. 6. 6. 4. 2.]\n",
      " [2. 4. 6. 6. 4. 2.]\n",
      " [1. 2. 3. 3. 2. 1.]]\n"
     ]
    }
   ],
   "source": [
    "c=findConvolution2D(a,b)\n",
    "print(c)"
   ]
  },
  {
   "cell_type": "code",
   "execution_count": 32,
   "id": "cd2de393",
   "metadata": {},
   "outputs": [
    {
     "data": {
      "text/plain": [
       "array([[1., 2., 3., 3.],\n",
       "       [2., 4., 6., 6.],\n",
       "       [2., 4., 6., 6.],\n",
       "       [2., 4., 6., 6.]])"
      ]
     },
     "execution_count": 32,
     "metadata": {},
     "output_type": "execute_result"
    }
   ],
   "source": [
    "c[0:4,0:4]\n"
   ]
  },
  {
   "cell_type": "code",
   "execution_count": 34,
   "id": "5cd7c92c",
   "metadata": {},
   "outputs": [
    {
     "data": {
      "text/plain": [
       "array([[4., 6., 6.],\n",
       "       [4., 6., 6.],\n",
       "       [4., 6., 6.]])"
      ]
     },
     "execution_count": 34,
     "metadata": {},
     "output_type": "execute_result"
    }
   ],
   "source": [
    "c[1:4,1:4]"
   ]
  },
  {
   "cell_type": "code",
   "execution_count": 33,
   "id": "be34a0bc",
   "metadata": {},
   "outputs": [
    {
     "data": {
      "text/plain": [
       "6.0"
      ]
     },
     "execution_count": 33,
     "metadata": {},
     "output_type": "execute_result"
    }
   ],
   "source": [
    "c[0:4,0:4].max()"
   ]
  },
  {
   "cell_type": "code",
   "execution_count": null,
   "id": "2e17054a",
   "metadata": {},
   "outputs": [],
   "source": [
    "def findNonMaximumSuppression0(imgResolutionDirection):\n",
    "        imgResolutionDirectionNonMaximaSuppressed = np.zeros([imgResolutionDirection.shape[0],imgResolutionDirection.shape[1]])\n",
    "        for y in range(1,imgResolutionDirection.shape[0]-1):\n",
    "            for x in range(1,imgResolutionDirection.shape[1]-1):\n",
    "                firstNeighbour=0\n",
    "                secondNeighbour=0\n",
    "                if (-math.pi/8<=imgResolutionDirection[y,x]<=math.pi/8)or(math.pi*(7/8)<=imgResolutionDirection[y,x]<=math.pi):\n",
    "                    firstNeighbour=imgResolutionDirection[y,x-1]\n",
    "                    secondNeighbour=imgResolutionDirection[y,x+1]\n",
    "                elif (math.pi/8<=imgResolutionDirection[y,x]<=math.pi*(3/8))or(math.pi*(-7/8)<=imgResolutionDirection[y,x]<=math.pi*(-5/8)):\n",
    "                    firstNeighbour=imgResolutionDirection[y+1,x+1]\n",
    "                    secondNeighbour=imgResolutionDirection[y-1,x-1]\n",
    "                elif (math.pi*(3/8)<=imgResolutionDirection[y,x]<=math.pi/4)or(math.pi*(-5/8)<=imgResolutionDirection[y,x]<=math.pi*(-3/8)):\n",
    "                    firstNeighbour=imgResolutionDirection[y+1,x]\n",
    "                    secondNeighbour=imgResolutionDirection[y-1,x]\n",
    "                elif (math.pi*(5/8)<=imgResolutionDirection[y,x]<=math.pi*(7/8))or(math.pi*(-3/8)<=imgResolutionDirection[y,x]<=math.pi*(-1/8)):\n",
    "                    firstNeighbour=imgResolutionDirection[y+1,x-1]\n",
    "                    secondNeighbour=imgResolutionDirection[y-1,x+1] \n",
    "                if(imgResolutionDirection[y,x]>=firstNeighbour)and(imgResolutionDirection[y,x]>=secondNeighbour):\n",
    "                    imgResolutionDirectionNonMaximaSuppressed[y,x]=imgResolutionDirection[y,x]\n",
    "                else:\n",
    "                    imgResolutionDirectionNonMaximaSuppressed[y,x]=0\n",
    "        return imgResolutionDirectionNonMaximaSuppressed"
   ]
  }
 ],
 "metadata": {
  "kernelspec": {
   "display_name": "Python 3 (ipykernel)",
   "language": "python",
   "name": "python3"
  },
  "language_info": {
   "codemirror_mode": {
    "name": "ipython",
    "version": 3
   },
   "file_extension": ".py",
   "mimetype": "text/x-python",
   "name": "python",
   "nbconvert_exporter": "python",
   "pygments_lexer": "ipython3",
   "version": "3.9.12"
  }
 },
 "nbformat": 4,
 "nbformat_minor": 5
}
